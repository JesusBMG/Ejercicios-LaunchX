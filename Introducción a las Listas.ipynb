{
 "cells": [
  {
   "cell_type": "markdown",
   "metadata": {},
   "source": [
    "## EJERCICIO 1: \n",
    "### Crear y usar listas de Python"
   ]
  },
  {
   "cell_type": "code",
   "execution_count": 3,
   "metadata": {},
   "outputs": [
    {
     "name": "stdout",
     "output_type": "stream",
     "text": [
      "\n",
      "['Mercurio', 'Venus', 'Tierra', 'Marte', 'Jupiter', 'Saturno', 'Urano', 'Neptuno']\n",
      "\n",
      "Hay 8 planetas\n",
      "\n",
      "Agregando a 'Plutón' a la lista\n",
      "['Mercurio', 'Venus', 'Tierra', 'Marte', 'Jupiter', 'Saturno', 'Urano', 'Neptuno', 'pluton']\n",
      "\n",
      "Ahora hay 9 planetas\n"
     ]
    }
   ],
   "source": [
    "planetas = ['Mercurio', 'Venus', 'Tierra', 'Marte', 'Jupiter', 'Saturno', 'Urano', 'Neptuno']\n",
    "print()\n",
    "print(planetas)\n",
    "print()\n",
    "print((f\"Hay {len(planetas)} planetas\"))\n",
    "print()\n",
    "planetas.append(\"pluton\")\n",
    "print(\"Agregando a 'Plutón' a la lista\")\n",
    "print(planetas)\n",
    "print()\n",
    "print((f\"Ahora hay {len(planetas)} planetas\"))"
   ]
  },
  {
   "cell_type": "markdown",
   "metadata": {},
   "source": [
    "## EJERCIOCIO 2: \n",
    "### Trabajando con datos de una lista"
   ]
  },
  {
   "cell_type": "code",
   "execution_count": 2,
   "metadata": {},
   "outputs": [
    {
     "name": "stdout",
     "output_type": "stream",
     "text": [
      "Jupiter es el  5 planeta desde el sol\n",
      "\n",
      "Los planetas mas cercanos al sol, son: ['Mercurio', 'Venus', 'Tierra', 'Marte']\n",
      "Los planetas mas lejanos al sol, son: ['Jupiter', 'Saturno', 'Urano', 'Neptuno']\n"
     ]
    }
   ],
   "source": [
    "planetas = ['Mercurio', 'Venus', 'Tierra', 'Marte', 'Jupiter', 'Saturno', 'Urano', 'Neptuno']\n",
    "nombre = input(\"Digite el nombre de un planeta: \")\n",
    "buscar = planetas.index(nombre)\n",
    "print(f'{nombre} es el  {buscar + 1} planeta desde el sol')\n",
    "print()\n",
    "print(f'Los planetas mas cercanos al sol, son: {planetas[0:4]}')\n",
    "print(f'Los planetas mas lejanos al sol, son: {planetas[4:9]}')"
   ]
  }
 ],
 "metadata": {
  "interpreter": {
   "hash": "0fc0b170733ce06aea76acb817f1fb7400cfdbb96433bb17651bf5f110aa4300"
  },
  "kernelspec": {
   "display_name": "Python 3.10.2 64-bit",
   "language": "python",
   "name": "python3"
  },
  "language_info": {
   "codemirror_mode": {
    "name": "ipython",
    "version": 3
   },
   "file_extension": ".py",
   "mimetype": "text/x-python",
   "name": "python",
   "nbconvert_exporter": "python",
   "pygments_lexer": "ipython3",
   "version": "3.10.2"
  },
  "orig_nbformat": 4
 },
 "nbformat": 4,
 "nbformat_minor": 2
}
