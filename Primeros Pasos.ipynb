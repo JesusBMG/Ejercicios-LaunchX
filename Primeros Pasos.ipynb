{
 "cells": [
  {
   "cell_type": "markdown",
   "metadata": {},
   "source": [
    "## Programa de Fecha"
   ]
  },
  {
   "cell_type": "code",
   "execution_count": 2,
   "metadata": {},
   "outputs": [
    {
     "name": "stdout",
     "output_type": "stream",
     "text": [
      "La fecha de hoy es: 2022-02-07\n"
     ]
    }
   ],
   "source": [
    "from datetime import date\n",
    "\n",
    "date.today()\n",
    "\n",
    "print(f\"La fecha de hoy es: {date.today()}\")"
   ]
  },
  {
   "cell_type": "markdown",
   "metadata": {},
   "source": [
    "## Programa de conversión"
   ]
  },
  {
   "cell_type": "code",
   "execution_count": 9,
   "metadata": {},
   "outputs": [
    {
     "name": "stdout",
     "output_type": "stream",
     "text": [
      "En años luz es igual a: 32.6156\n"
     ]
    }
   ],
   "source": [
    "parsec = float((input(\"Digita una unidad\")))\n",
    "\n",
    "lightyears = 3.26156\n",
    "\n",
    "print(f\"En años luz es igual a: {parsec*lightyears}\")"
   ]
  }
 ],
 "metadata": {
  "interpreter": {
   "hash": "0fc0b170733ce06aea76acb817f1fb7400cfdbb96433bb17651bf5f110aa4300"
  },
  "kernelspec": {
   "display_name": "Python 3.10.2 64-bit",
   "language": "python",
   "name": "python3"
  },
  "language_info": {
   "codemirror_mode": {
    "name": "ipython",
    "version": 3
   },
   "file_extension": ".py",
   "mimetype": "text/x-python",
   "name": "python",
   "nbconvert_exporter": "python",
   "pygments_lexer": "ipython3",
   "version": "3.10.2"
  },
  "orig_nbformat": 4
 },
 "nbformat": 4,
 "nbformat_minor": 2
}
