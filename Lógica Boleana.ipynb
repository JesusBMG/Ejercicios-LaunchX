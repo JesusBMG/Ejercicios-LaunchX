{
 "cells": [
  {
   "cell_type": "markdown",
   "metadata": {},
   "source": [
    "## Lógica Boleana"
   ]
  },
  {
   "cell_type": "code",
   "execution_count": 1,
   "metadata": {},
   "outputs": [
    {
     "name": "stdout",
     "output_type": "stream",
     "text": [
      "40\n",
      "40\n"
     ]
    }
   ],
   "source": [
    "a=55\n",
    "b=40\n",
    "if a >= b:\n",
    "    # intrucción(es) a ejecutar\n",
    "    print(b)\n",
    "    \n",
    "    if b >= a:\n",
    "        # intrucción(es) a ejecutar\n",
    "        print(a)\n",
    "    else: \n",
    "        # intrucción(es) a ejecutar\n",
    "        print(b)\n",
    "elif b>a:\n",
    "    # intrucción(es) a ejecutar\n",
    "    print(a)\n",
    "else:\n",
    "    print(b)\n",
    "    # intrucción(es) a ejecutar"
   ]
  },
  {
   "cell_type": "markdown",
   "metadata": {},
   "source": [
    "## EJERCICIO 1:"
   ]
  },
  {
   "cell_type": "code",
   "execution_count": 1,
   "metadata": {},
   "outputs": [
    {
     "name": "stdout",
     "output_type": "stream",
     "text": [
      "Advertencia, se hacerca un asteroide a mas de 25 km/s\n"
     ]
    }
   ],
   "source": [
    "velocidad = float(int(43))\n",
    "if velocidad >= 25:\n",
    "    print (\"Advertencia, se hacerca un asteroide a mas de 25 km/s\")\n",
    "\n",
    "else:\n",
    "    print (\"No hay ningun peligro\")"
   ]
  },
  {
   "cell_type": "markdown",
   "metadata": {},
   "source": [
    "## EJERCICIO 2:"
   ]
  },
  {
   "cell_type": "code",
   "execution_count": 5,
   "metadata": {},
   "outputs": [
    {
     "name": "stdout",
     "output_type": "stream",
     "text": [
      "Advertencia, se hacerca un asteroide a mas de 20 km/s\n"
     ]
    }
   ],
   "source": [
    "velocidad = int(input(\"Digite la velocidad del asteroide\"))\n",
    "mensaje = \"Hay un asteroide que se dirige a la tierra ahora a una velocidad de 19 km/s!\"\n",
    "\n",
    "if velocidad >= 20:\n",
    "    print (\"Advertencia, se hacerca un asteroide a mas de 20 km/s\")\n",
    "    pregunta = input(\"Ustede puede ver un rayo de luz?\")\n",
    "    if pregunta == \"si\":\n",
    "        print(mensaje)\n",
    "else:\n",
    "    print(\"Tenemos todo bajo control\")"
   ]
  },
  {
   "cell_type": "markdown",
   "metadata": {},
   "source": [
    "## EJERCICIO 3:"
   ]
  },
  {
   "cell_type": "code",
   "execution_count": null,
   "metadata": {},
   "outputs": [],
   "source": [
    "velocidad = int(input(\"Digite la velocidad del asteroide\"))\n",
    "mensaje = \"Hay un asteroide que se dirige a la tierra ahora a una velocidad de 19 km/s!\"\n",
    "\n",
    "if velocidad >= 25:\n",
    "    print (\"Advertencia, se hacerca un asteroide a mas de 20 km/s\")\n",
    "    volumen = int(input(\"Digite el volumen del asteroide\"))\n",
    "if volumen >=20 or volumen <= 100:\n",
    "    pregunta = input(\"Ustede puede ver un rayo de luz?\")\n",
    "    if pregunta == \"si\":\n",
    "        print(mensaje)\n",
    "    else:\n",
    "        print(\"No se preocupe, no hay peligro\")\n",
    "else:\n",
    "    print(\"Tenemos todo bajo control\")"
   ]
  }
 ],
 "metadata": {
  "interpreter": {
   "hash": "0fc0b170733ce06aea76acb817f1fb7400cfdbb96433bb17651bf5f110aa4300"
  },
  "kernelspec": {
   "display_name": "Python 3.10.2 64-bit",
   "language": "python",
   "name": "python3"
  },
  "language_info": {
   "codemirror_mode": {
    "name": "ipython",
    "version": 3
   },
   "file_extension": ".py",
   "mimetype": "text/x-python",
   "name": "python",
   "nbconvert_exporter": "python",
   "pygments_lexer": "ipython3",
   "version": "3.10.2"
  },
  "orig_nbformat": 4
 },
 "nbformat": 4,
 "nbformat_minor": 2
}
