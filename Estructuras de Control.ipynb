{
 "cells": [
  {
   "cell_type": "markdown",
   "metadata": {},
   "source": [
    "## EJERCICIO 1: \n",
    "### Creación de un bucle \"while\""
   ]
  },
  {
   "cell_type": "code",
   "execution_count": 6,
   "metadata": {},
   "outputs": [
    {
     "name": "stdout",
     "output_type": "stream",
     "text": [
      "Ingresando Planeta Uno\n",
      "El Planeta Uno Se Ha Ingresado\n",
      "['Uno']\n",
      "El Planeta Dos Se Ha Ingresado\n",
      "['Uno', 'Dos']\n",
      "El Planeta Tres Se Ha Ingresado\n",
      "['Uno', 'Dos', 'Tres']\n",
      "El Planeta Cuatro Se Ha Ingresado\n",
      "['Uno', 'Dos', 'Tres', 'Cuatro']\n",
      "Estos Son Los Planetas Agregados:\n",
      "['Uno', 'Dos', 'Tres', 'Cuatro']\n",
      "Hasta Pronto\n"
     ]
    }
   ],
   "source": [
    "planetas = []\n",
    "nuevo = input(\"Agregue un planeta: \").lower()\n",
    "print(f\"Ingresando planeta {nuevo}\".title())\n",
    "while nuevo != 'done':\n",
    "    planetas.append(nuevo)\n",
    "    print(f\"El planeta {nuevo} se ha ingresado\".title())\n",
    "    print(f\"{planetas}\".title())\n",
    "    nuevo = input(\"Ingrese otro planeta o Digite 'Done' para terminar: \").lower()\n",
    "    if nuevo == 'done':\n",
    "        print(f\"Estos son los planetas agregados:\"\n",
    "              f\"\\n{planetas}\".title())\n",
    "        print(\"hasta pronto\".title())"
   ]
  },
  {
   "cell_type": "markdown",
   "metadata": {},
   "source": [
    "## EJERCICIO 2: \n",
    "### Creación de un ciclo \"for\""
   ]
  },
  {
   "cell_type": "code",
   "execution_count": 9,
   "metadata": {},
   "outputs": [
    {
     "name": "stdout",
     "output_type": "stream",
     "text": [
      "Uno, Dos, Tres, Cuatro, "
     ]
    }
   ],
   "source": [
    "\n",
    "for pl in planetas:\n",
    "        print(f\"{pl}\".title(),end=\", \")"
   ]
  }
 ],
 "metadata": {
  "interpreter": {
   "hash": "0fc0b170733ce06aea76acb817f1fb7400cfdbb96433bb17651bf5f110aa4300"
  },
  "kernelspec": {
   "display_name": "Python 3.10.2 64-bit",
   "language": "python",
   "name": "python3"
  },
  "language_info": {
   "codemirror_mode": {
    "name": "ipython",
    "version": 3
   },
   "file_extension": ".py",
   "mimetype": "text/x-python",
   "name": "python",
   "nbconvert_exporter": "python",
   "pygments_lexer": "ipython3",
   "version": "3.10.2"
  },
  "orig_nbformat": 4
 },
 "nbformat": 4,
 "nbformat_minor": 2
}
