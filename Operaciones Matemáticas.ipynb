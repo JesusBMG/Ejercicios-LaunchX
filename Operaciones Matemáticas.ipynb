{
 "cells": [
  {
   "cell_type": "markdown",
   "metadata": {},
   "source": [
    "## EJERCICIO 1:\n",
    "### Utilizar Operadores Matemáticos"
   ]
  },
  {
   "cell_type": "code",
   "execution_count": null,
   "metadata": {},
   "outputs": [],
   "source": [
    "titulo = \"distancia entre dos planetas.\".title()\n",
    "print(titulo)\n",
    "print()\n",
    "tierra = 149597870\n",
    "jupiter = 778547200\n",
    "print(\"distancia entre el planeta tierra y jupiter\".title())\n",
    "print()\n",
    "distancia = jupiter - tierra\n",
    "print(f\"Distancia: {distancia}\")\n",
    "millas = distancia * 0.621\n",
    "print(f\"En millas es: {millas}\")"
   ]
  },
  {
   "cell_type": "markdown",
   "metadata": {},
   "source": [
    "## EJERCICIO 2: \n",
    "### convierte cadenas en números y usa valores absolutos"
   ]
  },
  {
   "cell_type": "code",
   "execution_count": 5,
   "metadata": {},
   "outputs": [
    {
     "name": "stdout",
     "output_type": "stream",
     "text": [
      "Saber La Distancia Entre Planetas Y El Sol\n",
      "****************************************************  \n",
      "Las Distancias Al Sol Son Las Siguientes:\n",
      "Planeta\t    Distancia al sol\n",
      "\n",
      "Mercurio\t57900000\n",
      "Venus\t        108200000\n",
      "Tierra\t        149600000\n",
      "Marte\t        227900000\n",
      "Júpiter\t        778600000\n",
      "Saturno\t        1433500000\n",
      "Urano\t        2872500000\n",
      "Neptuno\t        4495100000\n",
      "**************************************************************************  \n",
      "\n",
      "Para calcular la distancia entre planetas digite lo siguiente:\n",
      "\n",
      "La distancia entre ambos planetas es: 39km/s\n",
      "En millas es: 24.219\n"
     ]
    }
   ],
   "source": [
    "sol = \"\"\"Planeta\t    Distancia al sol\n",
    "\n",
    "Mercurio\t57900000\n",
    "Venus\t        108200000\n",
    "Tierra\t        149600000\n",
    "Marte\t        227900000\n",
    "Júpiter\t        778600000\n",
    "Saturno\t        1433500000\n",
    "Urano\t        2872500000\n",
    "Neptuno\t        4495100000\"\"\"\n",
    "\n",
    "print(\"Saber la distancia entre planetas y el sol\".title())\n",
    "guiones = (f\"\"\"{'*'*52}  \"\"\") #Utilizamos esta formula para separar lineas con signo que deseemos\n",
    "print(guiones)\n",
    "\n",
    "print(\"Las distancias al sol son las siguientes:\".title())\n",
    "print(sol)\n",
    "guiones = (f\"\"\"{'*'*74}  \"\"\")\n",
    "print(guiones)\n",
    "\n",
    "print()\n",
    "\n",
    "print(\"Para calcular la distancia entre planetas digite lo siguiente:\")\n",
    "print()\n",
    "\n",
    "planeta1 = int(input(\"Digite una de las distancias sugeridas: \"))\n",
    "planeta2 = int(input(\"Digita otra de las distancias sugeridas: \"))\n",
    "kilometros = 0.621\n",
    "\n",
    "distancia1 = abs(planeta1 - planeta2)\n",
    "print(f\"La distancia entre ambos planetas es: {distancia1}km/s\")\n",
    "print(f\"En millas es: {(kilometros) * ( distancia1)}\")"
   ]
  }
 ],
 "metadata": {
  "interpreter": {
   "hash": "0fc0b170733ce06aea76acb817f1fb7400cfdbb96433bb17651bf5f110aa4300"
  },
  "kernelspec": {
   "display_name": "Python 3.10.2 64-bit",
   "language": "python",
   "name": "python3"
  },
  "language_info": {
   "codemirror_mode": {
    "name": "ipython",
    "version": 3
   },
   "file_extension": ".py",
   "mimetype": "text/x-python",
   "name": "python",
   "nbconvert_exporter": "python",
   "pygments_lexer": "ipython3",
   "version": "3.10.2"
  },
  "orig_nbformat": 4
 },
 "nbformat": 4,
 "nbformat_minor": 2
}
