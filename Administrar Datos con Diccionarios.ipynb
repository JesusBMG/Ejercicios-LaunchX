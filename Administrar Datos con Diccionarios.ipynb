{
 "cells": [
  {
   "cell_type": "markdown",
   "metadata": {},
   "source": [
    "## EJERCICIO 1: \n",
    "### Creación de diccionarios de Python"
   ]
  },
  {
   "cell_type": "code",
   "execution_count": null,
   "metadata": {},
   "outputs": [],
   "source": [
    "\n",
    "planet = {}\n",
    "planet['Mars']= 2\n",
    "print(planet)\n",
    "print(planet.items())\n",
    "\n",
    "circunferencia = {\"Polar\":6752,\"Equatorial\":6792}\n",
    "planet.update(circunferencia)\n",
    "print(planet)\n",
    "\n",
    "print(f\"Planeta = {list(planet.keys())[0]}\")\n",
    "print(f\"Circunferencia Polar = {list(planet.values())[1]}\")\n"
   ]
  },
  {
   "cell_type": "markdown",
   "metadata": {},
   "source": [
    "## EJERCICIO 2: \n",
    "### Programación dinámica con diccionarios"
   ]
  },
  {
   "cell_type": "code",
   "execution_count": 2,
   "metadata": {},
   "outputs": [
    {
     "name": "stdout",
     "output_type": "stream",
     "text": [
      "Numero De Planetas = 12\n",
      "El numero de lunas es: 214\n"
     ]
    }
   ],
   "source": [
    "planet_moons = {\n",
    "    'mercury': 0,\n",
    "    'venus': 0,\n",
    "    'earth': 1,\n",
    "    'mars': 2,\n",
    "    'jupiter': 79,\n",
    "    'saturn': 82,\n",
    "    'uranus': 27,\n",
    "    'neptune': 14,\n",
    "    'pluto': 5,\n",
    "    'haumea': 2,\n",
    "    'makemake': 1,\n",
    "    'eris': 1\n",
    "}\n",
    "pla = planet_moons.values()\n",
    "moons = 0\n",
    "\n",
    "print(f\"numero de planetas = {len(pla)}\".title())\n",
    "\n",
    "for a in planet_moons.values():\n",
    "    moons += a\n",
    "print(f\"El numero de lunas es: {moons}\".title())"
   ]
  }
 ],
 "metadata": {
  "interpreter": {
   "hash": "0fc0b170733ce06aea76acb817f1fb7400cfdbb96433bb17651bf5f110aa4300"
  },
  "kernelspec": {
   "display_name": "Python 3.10.2 64-bit",
   "language": "python",
   "name": "python3"
  },
  "language_info": {
   "codemirror_mode": {
    "name": "ipython",
    "version": 3
   },
   "file_extension": ".py",
   "mimetype": "text/x-python",
   "name": "python",
   "nbconvert_exporter": "python",
   "pygments_lexer": "ipython3",
   "version": "3.10.2"
  },
  "orig_nbformat": 4
 },
 "nbformat": 4,
 "nbformat_minor": 2
}
