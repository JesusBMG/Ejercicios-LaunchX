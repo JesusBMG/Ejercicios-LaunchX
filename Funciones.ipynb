{
 "cells": [
  {
   "cell_type": "markdown",
   "metadata": {},
   "source": [
    "## EJERCICIO 1: \n",
    "### Uso de funciones en Python"
   ]
  },
  {
   "cell_type": "code",
   "execution_count": 1,
   "metadata": {},
   "outputs": [
    {
     "name": "stdout",
     "output_type": "stream",
     "text": [
      "Reporte:\n",
      "Total: 50.0%\n",
      "Tanque1: 50%\n",
      "Tanque2: 40%\n",
      "Tanque3: 60% \n"
     ]
    }
   ],
   "source": [
    "def combustible(tanque1, tanque2, tanque3):\n",
    "    total = (tanque1 + tanque2 + tanque3) / 3\n",
    "    return (f\"Reporte:\"\n",
    "            f\"\\nTotal: {total}%\"\n",
    "            f\"\\nTanque1: {tanque1}%\"\n",
    "            f\"\\nTanque2: {tanque2}%\"\n",
    "            f\"\\nTanque3: {tanque3}% \")\n",
    "print(combustible(50, 40, 60))"
   ]
  },
  {
   "cell_type": "markdown",
   "metadata": {},
   "source": [
    "Si alguien logra ver esto: no pude agregar valores a mi función"
   ]
  },
  {
   "cell_type": "code",
   "execution_count": null,
   "metadata": {},
   "outputs": [],
   "source": [
    "\n",
    "\n",
    "def a ():\n",
    "    m =   (ma , me , mi)\n",
    "    return\n",
    "t = a()\n",
    "print(t)\n",
    "a()\n",
    "\n",
    "\n"
   ]
  },
  {
   "cell_type": "markdown",
   "metadata": {},
   "source": [
    "Solo los pude agregar con comillas"
   ]
  },
  {
   "cell_type": "code",
   "execution_count": 3,
   "metadata": {},
   "outputs": [
    {
     "name": "stdout",
     "output_type": "stream",
     "text": [
      "('ma', 'me', 'mi')\n"
     ]
    }
   ],
   "source": [
    "def a():\n",
    "    return 'ma', 'me', 'mi'\n",
    "t = a()\n",
    "print(t)"
   ]
  },
  {
   "cell_type": "markdown",
   "metadata": {},
   "source": [
    "## EJERCICIO 2: \n",
    "### Trabajo con argumentos de palabra clave"
   ]
  },
  {
   "cell_type": "code",
   "execution_count": 6,
   "metadata": {},
   "outputs": [
    {
     "name": "stdout",
     "output_type": "stream",
     "text": [
      "Misión: Luna\n",
      "Tiempo: 6 minutos\n",
      "Combustible: 130\n",
      "\n",
      "\n",
      "Misión: Luna\n",
      "Tiempo: 30 minutos\n",
      "Combustible: 130\n"
     ]
    }
   ],
   "source": [
    "def segunda(hora, tiempo, destino, tanque1, tanque2):\n",
    "    return (f\"Misión: {destino}\"\n",
    "            f\"\\nTiempo: {hora + tiempo} minutos\"\n",
    "            f\"\\nCombustible: {tanque1 + tanque2}\")\n",
    "print(segunda(2, 4, 'Luna', 45, 85))\n",
    "\n",
    "print()\n",
    "print()\n",
    "\n",
    "def segunda(destino, *minutos, **deposito):\n",
    "    return (f\"Misión: {destino}\"\n",
    "            f\"\\nTiempo: {sum(minutos)} minutos\"\n",
    "            f\"\\nCombustible: {sum(deposito.values())}\")   \n",
    "print(segunda(\"Luna\", 5, 10, 15, tanque1=45, tanque2=85))\n"
   ]
  }
 ],
 "metadata": {
  "interpreter": {
   "hash": "0fc0b170733ce06aea76acb817f1fb7400cfdbb96433bb17651bf5f110aa4300"
  },
  "kernelspec": {
   "display_name": "Python 3.10.2 64-bit",
   "language": "python",
   "name": "python3"
  },
  "language_info": {
   "codemirror_mode": {
    "name": "ipython",
    "version": 3
   },
   "file_extension": ".py",
   "mimetype": "text/x-python",
   "name": "python",
   "nbconvert_exporter": "python",
   "pygments_lexer": "ipython3",
   "version": "3.10.2"
  },
  "orig_nbformat": 4
 },
 "nbformat": 4,
 "nbformat_minor": 2
}
