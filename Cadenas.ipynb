{
 "cells": [
  {
   "cell_type": "markdown",
   "metadata": {},
   "source": [
    "## EJERCICIO 1: \n",
    "### Transformar cadenas"
   ]
  },
  {
   "cell_type": "code",
   "execution_count": null,
   "metadata": {},
   "outputs": [],
   "source": [
    "text = \"\"\"Interesting facts about the Moon. The Moon is Earth's only satellite. \n",
    "There are several interesting facts about the Moon and how it affects life here on Earth. \n",
    "On average, the Moon moves 4cm away from the Earth every year. \n",
    "This yearly drift is not significant enough to cause immediate effects on Earth. \n",
    "The highest daylight temperature of the Moon is 127 C.\"\"\".lower()\n",
    "\n",
    "print(text.split())\n",
    "\n",
    "print()\n",
    "print()\n",
    "a= 'average'\n",
    "b= 'temperature'\n",
    "c= 'distance'\n",
    "print(a in text.split())\n",
    "print(b in text.split())\n",
    "print(c in text.split())\n",
    "\n",
    "print()\n",
    "print()\n",
    "\n",
    "d =  'average', 'temperature','distance'\n",
    "\n",
    "for sentence in text.split():\n",
    "    for d in d:\n",
    "        if d in sentence:\n",
    "            print(sentence,end=\" \")\n",
    "            break\n",
    "\n",
    "print()\n",
    "print()\n",
    "\n",
    "\n",
    "\n",
    "if \"127 C\".endswith(\"C\"):\n",
    "    print(\"La temperatura es en Celsius\")"
   ]
  },
  {
   "cell_type": "markdown",
   "metadata": {},
   "source": [
    "## EJERCICIO 2:\n",
    "### Formateando Cadenas"
   ]
  },
  {
   "cell_type": "code",
   "execution_count": 4,
   "metadata": {},
   "outputs": [
    {
     "name": "stdout",
     "output_type": "stream",
     "text": [
      "Datos De Gravedad De:  El Planeta Tierra Y La Luna \n",
      "--------------------------------------------------  \n",
      "\n",
      "Nombre del planeta:  El Planeta Tierra Y La Luna \n",
      "Gravedad en Ganímedes: 1.4300000000000002\n"
     ]
    }
   ],
   "source": [
    "planeta = ' el planeta tierra y la luna '.title()\n",
    "gravedad  = 0.00143\n",
    "nombre = 'Ganímedes'\n",
    "\n",
    "titulo = (f\"Datos de gravedad de: {planeta}\").title()\n",
    "\n",
    "print(titulo)\n",
    "guiones = f\"\"\"{'-'*50}  \n",
    "\"\"\"\n",
    "print(guiones) # Con esto realizamos una separacion de lineas con guiones.\n",
    "\n",
    "print(f\"Nombre del planeta: {planeta}\"\n",
    "      f\"\\nGravedad en {nombre}: {gravedad * 1000}\")"
   ]
  }
 ],
 "metadata": {
  "interpreter": {
   "hash": "0fc0b170733ce06aea76acb817f1fb7400cfdbb96433bb17651bf5f110aa4300"
  },
  "kernelspec": {
   "display_name": "Python 3.10.2 64-bit",
   "language": "python",
   "name": "python3"
  },
  "language_info": {
   "codemirror_mode": {
    "name": "ipython",
    "version": 3
   },
   "file_extension": ".py",
   "mimetype": "text/x-python",
   "name": "python",
   "nbconvert_exporter": "python",
   "pygments_lexer": "ipython3",
   "version": "3.10.2"
  },
  "orig_nbformat": 4
 },
 "nbformat": 4,
 "nbformat_minor": 2
}
